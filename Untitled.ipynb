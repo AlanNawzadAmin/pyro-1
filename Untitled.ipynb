{
 "cells": [
  {
   "cell_type": "code",
   "execution_count": 1,
   "id": "0055ff26-0561-4a50-8c9b-8d1909639626",
   "metadata": {},
   "outputs": [],
   "source": [
    "import numpy as np\n",
    "import pyro\n",
    "from pyro import poutine\n",
    "import torch\n",
    "import time\n",
    "from torch.optim import Adam\n",
    "from pyro.optim import MultiStepLR\n",
    "%load_ext autoreload\n",
    "%autoreload 2"
   ]
  },
  {
   "cell_type": "code",
   "execution_count": 2,
   "id": "cc9fc3b1-f20a-4321-b716-44b2d51b811a",
   "metadata": {},
   "outputs": [],
   "source": [
    "from pyro.contrib.mue.models import ProfileHMM, FactorMuE\n",
    "from pyro.contrib.mue.dataloaders import BiosequenceDataset\n",
    "\n",
    "def load_profile_hmm_on_cuda(latent_seq_length, alphabet_length, load_path):\n",
    "    torch.set_default_tensor_type(torch.cuda.DoubleTensor)\n",
    "    model = ProfileHMM(latent_seq_length, alphabet_length, cuda=True)\n",
    "\n",
    "    pyro.clear_param_store()\n",
    "    model.fit_svi(torch.ones(1), epochs=0, jit=True)\n",
    "    pyro.get_param_store().load(load_path, map_location=device)\n",
    "    return model"
   ]
  },
  {
   "cell_type": "code",
   "execution_count": 49,
   "id": "f5a00dce-8a90-4089-9eb7-df238535ab7e",
   "metadata": {},
   "outputs": [
    {
     "data": {
      "text/plain": [
       "21"
      ]
     },
     "execution_count": 49,
     "metadata": {},
     "output_type": "execute_result"
    }
   ],
   "source": [
    "device = torch.device(\"cuda\")\n",
    "seqs_path = '/n/groups/marks/users/alan/ksds-for-variable-length-seqs/tcr/seqs.fa'\n",
    "dataset = BiosequenceDataset(seqs_path, source_type='fasta', include_stop=True, device=device)"
   ]
  },
  {
   "cell_type": "code",
   "execution_count": 52,
   "id": "1073fdd2-ac54-48fc-baba-27970e715c13",
   "metadata": {
    "tags": []
   },
   "outputs": [],
   "source": [
    "load_path = '/n/groups/marks/users/alan/ksds-for-variable-length-seqs/tcr/phmm/m15/ProfileHMM_results.params_20220316-105906.out'\n",
    "latent_seq_length = 15\n",
    "alphabet_length = 21\n",
    "\n",
    "model = load_profile_hmm_on_cuda(latent_seq_length, alphabet_length, load_path)"
   ]
  },
  {
   "cell_type": "code",
   "execution_count": 6,
   "id": "d7b8ecd6-c194-4c03-ba7e-3c4f83fcf1a9",
   "metadata": {},
   "outputs": [
    {
     "name": "stdout",
     "output_type": "stream",
     "text": [
      "7.996963977813721\n",
      "6.239962816238403\n"
     ]
    }
   ],
   "source": [
    "\n",
    "(a, b) = dataset[0]\n",
    "ds = dataset[:1000]\n",
    "ds = [(a, b) for (a, b) in zip(ds[0], ds[1])]\n",
    "t0 = time.time()\n",
    "for (a, b) in ds:\n",
    "    model.evaluate([(a, b)], jit=True)\n",
    "print(time.time() - t0)\n",
    "\n",
    "t0 = time.time()\n",
    "model.evaluate(ds, jit=True)\n",
    "print(time.time() - t0)"
   ]
  },
  {
   "cell_type": "code",
   "execution_count": 7,
   "id": "b2ec3d7c-b86b-458e-98b9-499c2293281a",
   "metadata": {},
   "outputs": [],
   "source": [
    "args = (0, torch.tensor(1.0))\n",
    "guide_tr = poutine.trace(model.guide).get_trace(*args)"
   ]
  },
  {
   "cell_type": "code",
   "execution_count": null,
   "id": "52d723b5-07c8-4d8c-9b6d-e63d67bfbd53",
   "metadata": {},
   "outputs": [],
   "source": [
    "conditioned_model = poutine.condition(\n",
    "                    self.model, data={\"obs_seq\": seq_data}\n",
    "                )\n",
    "model_tr = poutine.trace(\n",
    "                    poutine.replay(conditioned_model, trace=guide_tr)\n",
    "                ).get_trace(*args)"
   ]
  },
  {
   "cell_type": "code",
   "execution_count": 48,
   "id": "4f218142-634d-49ec-9c3a-44d6551cd09a",
   "metadata": {},
   "outputs": [
    {
     "ename": "RuntimeError",
     "evalue": "CUDA out of memory. Tried to allocate 64.00 MiB (GPU 0; 11.18 GiB total capacity; 7.02 GiB already allocated; 26.38 MiB free; 7.08 GiB reserved in total by PyTorch)",
     "output_type": "error",
     "traceback": [
      "\u001b[0;31m---------------------------------------------------------------------------\u001b[0m",
      "\u001b[0;31mRuntimeError\u001b[0m                              Traceback (most recent call last)",
      "\u001b[0;32m/tmp/ipykernel_1145/1152948602.py\u001b[0m in \u001b[0;36m<module>\u001b[0;34m\u001b[0m\n\u001b[1;32m      1\u001b[0m \u001b[0mt0\u001b[0m \u001b[0;34m=\u001b[0m \u001b[0mtime\u001b[0m\u001b[0;34m.\u001b[0m\u001b[0mtime\u001b[0m\u001b[0;34m(\u001b[0m\u001b[0;34m)\u001b[0m\u001b[0;34m\u001b[0m\u001b[0;34m\u001b[0m\u001b[0m\n\u001b[0;32m----> 2\u001b[0;31m \u001b[0ma\u001b[0m \u001b[0;34m=\u001b[0m \u001b[0mmodel\u001b[0m\u001b[0;34m.\u001b[0m\u001b[0mmap_log_prob\u001b[0m\u001b[0;34m(\u001b[0m\u001b[0mdataset\u001b[0m\u001b[0;34m[\u001b[0m\u001b[0;34m:\u001b[0m\u001b[0;36m10000\u001b[0m\u001b[0;34m]\u001b[0m\u001b[0;34m[\u001b[0m\u001b[0;36m0\u001b[0m\u001b[0;34m]\u001b[0m\u001b[0;34m)\u001b[0m\u001b[0;34m\u001b[0m\u001b[0;34m\u001b[0m\u001b[0m\n\u001b[0m\u001b[1;32m      3\u001b[0m \u001b[0mprint\u001b[0m\u001b[0;34m(\u001b[0m\u001b[0mtime\u001b[0m\u001b[0;34m.\u001b[0m\u001b[0mtime\u001b[0m\u001b[0;34m(\u001b[0m\u001b[0;34m)\u001b[0m \u001b[0;34m-\u001b[0m \u001b[0mt0\u001b[0m\u001b[0;34m)\u001b[0m\u001b[0;34m\u001b[0m\u001b[0;34m\u001b[0m\u001b[0m\n",
      "\u001b[0;32m/n/groups/marks/users/alan/packages/pyro-1/pyro/contrib/mue/models.py\u001b[0m in \u001b[0;36mmap_log_prob\u001b[0;34m(self, seqs)\u001b[0m\n\u001b[1;32m    326\u001b[0m     \u001b[0;32mdef\u001b[0m \u001b[0mmap_log_prob\u001b[0m\u001b[0;34m(\u001b[0m\u001b[0mself\u001b[0m\u001b[0;34m,\u001b[0m \u001b[0mseqs\u001b[0m\u001b[0;34m)\u001b[0m\u001b[0;34m:\u001b[0m\u001b[0;34m\u001b[0m\u001b[0;34m\u001b[0m\u001b[0m\n\u001b[1;32m    327\u001b[0m         \u001b[0mlog_prob_func\u001b[0m \u001b[0;34m=\u001b[0m \u001b[0mself\u001b[0m\u001b[0;34m.\u001b[0m\u001b[0m_get_map_lik_func\u001b[0m\u001b[0;34m(\u001b[0m\u001b[0mlen\u001b[0m\u001b[0;34m(\u001b[0m\u001b[0mseqs\u001b[0m\u001b[0;34m)\u001b[0m\u001b[0;34m)\u001b[0m\u001b[0;34m\u001b[0m\u001b[0;34m\u001b[0m\u001b[0m\n\u001b[0;32m--> 328\u001b[0;31m         \u001b[0;32mreturn\u001b[0m \u001b[0mlog_prob_func\u001b[0m\u001b[0;34m(\u001b[0m\u001b[0mseqs\u001b[0m\u001b[0;34m)\u001b[0m\u001b[0;34m\u001b[0m\u001b[0;34m\u001b[0m\u001b[0m\n\u001b[0m\u001b[1;32m    329\u001b[0m \u001b[0;34m\u001b[0m\u001b[0m\n\u001b[1;32m    330\u001b[0m \u001b[0;32mclass\u001b[0m \u001b[0mEncoder\u001b[0m\u001b[0;34m(\u001b[0m\u001b[0mnn\u001b[0m\u001b[0;34m.\u001b[0m\u001b[0mModule\u001b[0m\u001b[0;34m)\u001b[0m\u001b[0;34m:\u001b[0m\u001b[0;34m\u001b[0m\u001b[0;34m\u001b[0m\u001b[0m\n",
      "\u001b[0;32m/n/groups/marks/users/alan/packages/pyro-1/pyro/distributions/torch_distribution.py\u001b[0m in \u001b[0;36mlog_prob\u001b[0;34m(self, value)\u001b[0m\n\u001b[1;32m    468\u001b[0m             \u001b[0mself\u001b[0m\u001b[0;34m.\u001b[0m\u001b[0mbatch_shape\u001b[0m\u001b[0;34m,\u001b[0m \u001b[0mvalue\u001b[0m\u001b[0;34m.\u001b[0m\u001b[0mshape\u001b[0m\u001b[0;34m[\u001b[0m\u001b[0;34m:\u001b[0m \u001b[0mvalue\u001b[0m\u001b[0;34m.\u001b[0m\u001b[0mdim\u001b[0m\u001b[0;34m(\u001b[0m\u001b[0;34m)\u001b[0m \u001b[0;34m-\u001b[0m \u001b[0mself\u001b[0m\u001b[0;34m.\u001b[0m\u001b[0mevent_dim\u001b[0m\u001b[0;34m]\u001b[0m\u001b[0;34m\u001b[0m\u001b[0;34m\u001b[0m\u001b[0m\n\u001b[1;32m    469\u001b[0m         )\n\u001b[0;32m--> 470\u001b[0;31m         \u001b[0mlog_prob\u001b[0m \u001b[0;34m=\u001b[0m \u001b[0mself\u001b[0m\u001b[0;34m.\u001b[0m\u001b[0mbase_dist\u001b[0m\u001b[0;34m.\u001b[0m\u001b[0mlog_prob\u001b[0m\u001b[0;34m(\u001b[0m\u001b[0mvalue\u001b[0m\u001b[0;34m)\u001b[0m\u001b[0;34m\u001b[0m\u001b[0;34m\u001b[0m\u001b[0m\n\u001b[0m\u001b[1;32m    471\u001b[0m         \u001b[0;32mreturn\u001b[0m \u001b[0mlog_prob\u001b[0m\u001b[0;34m.\u001b[0m\u001b[0mexpand\u001b[0m\u001b[0;34m(\u001b[0m\u001b[0mshape\u001b[0m\u001b[0;34m)\u001b[0m\u001b[0;34m\u001b[0m\u001b[0;34m\u001b[0m\u001b[0m\n\u001b[1;32m    472\u001b[0m \u001b[0;34m\u001b[0m\u001b[0m\n",
      "\u001b[0;32m/n/groups/marks/users/alan/packages/pyro-1/pyro/contrib/mue/missingdatahmm.py\u001b[0m in \u001b[0;36mlog_prob\u001b[0;34m(self, value)\u001b[0m\n\u001b[1;32m     98\u001b[0m \u001b[0;34m\u001b[0m\u001b[0m\n\u001b[1;32m     99\u001b[0m         \u001b[0;31m# Combine observation and transition factors.\u001b[0m\u001b[0;34m\u001b[0m\u001b[0;34m\u001b[0m\u001b[0;34m\u001b[0m\u001b[0m\n\u001b[0;32m--> 100\u001b[0;31m         value_logits = torch.matmul(\n\u001b[0m\u001b[1;32m    101\u001b[0m             \u001b[0mvalue\u001b[0m\u001b[0;34m,\u001b[0m \u001b[0mtorch\u001b[0m\u001b[0;34m.\u001b[0m\u001b[0mtranspose\u001b[0m\u001b[0;34m(\u001b[0m\u001b[0mself\u001b[0m\u001b[0;34m.\u001b[0m\u001b[0mobservation_logits\u001b[0m\u001b[0;34m,\u001b[0m \u001b[0;34m-\u001b[0m\u001b[0;36m2\u001b[0m\u001b[0;34m,\u001b[0m \u001b[0;34m-\u001b[0m\u001b[0;36m1\u001b[0m\u001b[0;34m)\u001b[0m\u001b[0;34m\u001b[0m\u001b[0;34m\u001b[0m\u001b[0m\n\u001b[1;32m    102\u001b[0m         )\n",
      "\u001b[0;31mRuntimeError\u001b[0m: CUDA out of memory. Tried to allocate 64.00 MiB (GPU 0; 11.18 GiB total capacity; 7.02 GiB already allocated; 26.38 MiB free; 7.08 GiB reserved in total by PyTorch)"
     ]
    }
   ],
   "source": [
    "t0 = time.time()\n",
    "a = model.map_log_prob(dataset[:10000][0])\n",
    "print(time.time() - t0)"
   ]
  },
  {
   "cell_type": "code",
   "execution_count": null,
   "id": "f2b02927-4de7-4aef-b72c-cfe50f6f5d0c",
   "metadata": {},
   "outputs": [],
   "source": [
    "a"
   ]
  },
  {
   "cell_type": "code",
   "execution_count": null,
   "id": "af4108a7-fe86-427d-b92c-90e339bc35a8",
   "metadata": {},
   "outputs": [],
   "source": []
  }
 ],
 "metadata": {
  "kernelspec": {
   "display_name": "Python 3 (ipykernel)",
   "language": "python",
   "name": "python3"
  },
  "language_info": {
   "codemirror_mode": {
    "name": "ipython",
    "version": 3
   },
   "file_extension": ".py",
   "mimetype": "text/x-python",
   "name": "python",
   "nbconvert_exporter": "python",
   "pygments_lexer": "ipython3",
   "version": "3.8.8"
  }
 },
 "nbformat": 4,
 "nbformat_minor": 5
}
